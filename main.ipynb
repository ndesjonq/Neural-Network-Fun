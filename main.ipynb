{
 "cells": [
  {
   "cell_type": "code",
   "execution_count": 532,
   "metadata": {},
   "outputs": [],
   "source": [
    "import pandas as pd\n",
    "import numpy as np"
   ]
  },
  {
   "cell_type": "code",
   "execution_count": 533,
   "metadata": {},
   "outputs": [],
   "source": [
    "#colnames = ['result'] + ['label' + str(i) for i in range(784)]\n",
    "train_set = pd.read_csv('mnist_train.csv', header=None, sep=',')\n",
    "test_set = pd.read_csv('mnist_test.csv', header=None, sep=',')"
   ]
  },
  {
   "cell_type": "code",
   "execution_count": 534,
   "metadata": {},
   "outputs": [],
   "source": [
    "train_set = np.array(train_set).T \n",
    "test_set = np.array(test_set).T "
   ]
  },
  {
   "cell_type": "code",
   "execution_count": 615,
   "metadata": {},
   "outputs": [],
   "source": [
    "Y_train = train_set[0]\n",
    "Y_train_ = np.array([[(1 if i == y else 0) for i in range(10)] for y in train_set[0]]).T\n",
    "X_train = train_set[1:] / 255\n",
    "\n",
    "Y_test = test_set[0]\n",
    "X_test = test_set[1:] / 255"
   ]
  },
  {
   "cell_type": "code",
   "execution_count": 703,
   "metadata": {},
   "outputs": [],
   "source": [
    "def relu(X):\n",
    "    return np.maximum(0, X)\n",
    "\n",
    "def d_relu(X):\n",
    "    return (X > 0) * 1\n",
    "\n",
    "def softmax(X):    \n",
    "    return np.exp(X) / np.sum(np.exp(X), axis=0, keepdims=True)\n",
    "\n",
    "def is_correct(A, y):\n",
    "    return np.argmax(A) == y\n"
   ]
  },
  {
   "cell_type": "code",
   "execution_count": 704,
   "metadata": {},
   "outputs": [],
   "source": [
    "def init_weights():\n",
    "    W1 = np.random.rand(20, 784) - 0.5\n",
    "    b1 = np.random.rand(20, 1) - 0.5\n",
    "\n",
    "    W2 = np.random.rand(10, 20) - 0.5\n",
    "    b2 = np.random.rand(10, 1) - 0.5\n",
    "\n",
    "    return W1, b1, W2, b2\n",
    "\n",
    "def forward_propagation(W1, b1, W2, b2, X):\n",
    "    Z1 = W1.dot(X) + b1\n",
    "    A1 = relu(Z1)\n",
    "\n",
    "    Z2 = W2.dot(A1) + b2\n",
    "    A2 = softmax(Z2)\n",
    "\n",
    "    return Z1, A1, Z2, A2\n",
    "\n",
    "def backward_propagation(Z1, A1, Z2, A2, W1, b1, W2, b2, X, Y):\n",
    "    m = Y.shape[1]\n",
    "    \n",
    "    dZ2 = A2 - Y\n",
    "    dW2 = 1/m * dZ2.dot(A1.T)\n",
    "    db2 = 1/m * np.sum(dZ2)\n",
    "\n",
    "    dZ1 = W2.T.dot(dZ2) * d_relu(Z1)\n",
    "    dW1 = 1/m * dZ1.dot(X.T)\n",
    "    db1 = 1/m * np.sum(dZ1)\n",
    "\n",
    "    return dW1, db1, dW2, db2\n",
    "\n",
    "def update_weights(W1, b1, W2, b2, dW1, db1, dW2, db2, learning_rate):\n",
    "    W1 = W1 - learning_rate * dW1\n",
    "    b1 = b1 - learning_rate * db1\n",
    "\n",
    "    W2 = W2 - learning_rate * dW2\n",
    "    b2 = b2 - learning_rate * db2\n",
    "\n",
    "    return W1, b1, W2, b2\n",
    "\n",
    "def train_model(W1, b1, W2, b2, X, Y, n_iter, learning_rate = 0.01):\n",
    "\n",
    "    for i in range(1, n_iter + 1):\n",
    "        Z1, A1, Z2, A2 = forward_propagation(W1, b1, W2, b2, X)\n",
    "\n",
    "        dW1, db1, dW2, db2 = backward_propagation(Z1, A1, Z2, A2, W1, b1, W2, b2, X, Y)\n",
    "\n",
    "        W1, b1, W2, b2 = update_weights(W1, b1, W2, b2, dW1, db1, dW2, db2, learning_rate)\n",
    "\n",
    "    return W1, b1, W2, b2\n",
    "\n",
    "def test_model(W1, b1, W2, b2, X_test, Y_test):\n",
    "    n_correct = 0\n",
    "\n",
    "    for i in range(X_test.shape[1]):\n",
    "        Z1, A1, Z2, A2 = forward_propagation(W1, b1, W2, b2, X_test[:, i:i+1])\n",
    "\n",
    "        if is_correct(A2, Y_test[i]):\n",
    "            n_correct += 1\n",
    "            \n",
    "    return f\"Model precision: {np.round(n_correct / X_test.shape[1] * 100, 2)}% ({n_correct}/{X_test.shape[1]})\""
   ]
  },
  {
   "cell_type": "code",
   "execution_count": 696,
   "metadata": {},
   "outputs": [
    {
     "name": "stdout",
     "output_type": "stream",
     "text": [
      "Model precision: 11.36% (1136/10000)\n"
     ]
    }
   ],
   "source": [
    "W1, b1, W2, b2 = init_weights()\n",
    "print(test_model(W1, b1, W2, b2, X_test, Y_test))\n",
    "n = 0"
   ]
  },
  {
   "cell_type": "code",
   "execution_count": 697,
   "metadata": {},
   "outputs": [
    {
     "name": "stdout",
     "output_type": "stream",
     "text": [
      "#50>> Model precision: 21.97% (2197/10000)\n",
      "#100>> Model precision: 32.25% (3225/10000)\n",
      "#150>> Model precision: 39.8% (3980/10000)\n",
      "#200>> Model precision: 46.23% (4623/10000)\n",
      "#250>> Model precision: 52.31% (5231/10000)\n"
     ]
    }
   ],
   "source": [
    "for i in range(5):\n",
    "    W1, b1, W2, b2 = train_model(W1, b1, W2, b2, X_train, Y_train_, 50, 0.02)\n",
    "    n += 50\n",
    "    print(f\"#{n}>> {test_model(W1, b1, W2, b2, X_test, Y_test)}\")"
   ]
  },
  {
   "cell_type": "code",
   "execution_count": 705,
   "metadata": {},
   "outputs": [],
   "source": [
    "def init_weights_2():\n",
    "    W1 = np.random.rand(20, 784) - 0.5\n",
    "    b1 = np.random.rand(20, 1) - 0.5\n",
    "\n",
    "    W2 = np.random.rand(20, 20) - 0.5\n",
    "    b2 = np.random.rand(20, 1) - 0.5\n",
    "\n",
    "    W3 = np.random.rand(10, 20) - 0.5\n",
    "    b3 = np.random.rand(10, 1) - 0.5\n",
    "    \n",
    "    return W1, b1, W2, b2, W3, b3\n",
    "\n",
    "def forward_propagation_2(W1, b1, W2, b2, W3, b3, X):\n",
    "    Z1 = W1.dot(X) + b1\n",
    "    A1 = relu(Z1)\n",
    "\n",
    "    Z2 = W2.dot(A1) + b2\n",
    "    A2 = relu(Z2)\n",
    "\n",
    "    Z3 = W3.dot(A2) + b3\n",
    "    A3 = softmax(Z3)\n",
    "\n",
    "    return Z1, A1, Z2, A2, Z3, A3\n",
    "\n",
    "def backward_propagation_2(Z1, A1, Z2, A2, Z3, A3, W1, b1, W2, b2, W3, b3, X, Y):\n",
    "    m = Y.shape[1]\n",
    "\n",
    "    dZ3 = A3 - Y\n",
    "    dW3 = 1/m * dZ3.dot(A2.T)\n",
    "    db3 = 1/m * np.sum(dZ3)\n",
    "\n",
    "    dZ2 = W3.T.dot(dZ3) * d_relu(Z2)\n",
    "    dW2 = 1/m * dZ2.dot(A1.T)\n",
    "    db2 = 1/m * np.sum(dZ2)\n",
    "\n",
    "    dZ1 = W2.T.dot(dZ2) * d_relu(Z1)\n",
    "    dW1 = 1/m * dZ1.dot(X.T)\n",
    "    db1 = 1/m * np.sum(dZ1)\n",
    "\n",
    "    return dW1, db1, dW2, db2, dW3, db3\n",
    "\n",
    "def update_weights_2(W1, b1, W2, b2, W3, b3, dW1, db1, dW2, db2, dW3, db3, learning_rate):\n",
    "    W1 = W1 - learning_rate * dW1\n",
    "    b1 = b1 - learning_rate * db1\n",
    "\n",
    "    W2 = W2 - learning_rate * dW2\n",
    "    b2 = b2 - learning_rate * db2\n",
    "\n",
    "    W3 = W3 - learning_rate * dW3\n",
    "    b3 = b3 - learning_rate * db3\n",
    "\n",
    "    return W1, b1, W2, b2, W3, b3\n",
    "\n",
    "def train_model_2(W1, b1, W2, b2, W3, b3, X, Y, n_iter, learning_rate = 0.01):\n",
    "\n",
    "    for i in range(1, n_iter + 1):\n",
    "        Z1, A1, Z2, A2, Z3, A3 = forward_propagation_2(W1, b1, W2, b2, W3, b3, X)\n",
    "\n",
    "        dW1, db1, dW2, db2, dW3, db3 = backward_propagation_2(Z1, A1, Z2, A2, Z3, A3, W1, b1, W2, b2, W3, b3, X, Y)\n",
    "\n",
    "        W1, b1, W2, b2, W3, b3 = update_weights_2(W1, b1, W2, b2, W3, b3, dW1, db1, dW2, db2, dW3, db3, learning_rate)\n",
    "\n",
    "    return W1, b1, W2, b2, W3, b3\n",
    "\n",
    "def test_model_2(W1, b1, W2, b2, W3, b3, X_test, Y_test):\n",
    "    n_correct = 0\n",
    "\n",
    "    for i in range(X_test.shape[1]):\n",
    "        Z1, A1, Z2, A2, Z3, A3 = forward_propagation_2(W1, b1, W2, b2, W3, b3, X_test[:, i:i+1])\n",
    "\n",
    "        if is_correct(A2, Y_test[i]):\n",
    "            n_correct += 1\n",
    "            \n",
    "    return f\"Model precision: {np.round(n_correct / X_test.shape[1] * 100, 2)}% ({n_correct}/{X_test.shape[1]})\""
   ]
  },
  {
   "cell_type": "code",
   "execution_count": 706,
   "metadata": {},
   "outputs": [
    {
     "name": "stdout",
     "output_type": "stream",
     "text": [
      "Model precision: 6.87% (687/10000)\n"
     ]
    }
   ],
   "source": [
    "W1, b1, W2, b2, W3, b3 = init_weights_2()\n",
    "print(test_model_2(W1, b1, W2, b2, W3, b3, X_test, Y_test))\n",
    "n = 0"
   ]
  },
  {
   "cell_type": "code",
   "execution_count": 707,
   "metadata": {},
   "outputs": [
    {
     "name": "stdout",
     "output_type": "stream",
     "text": [
      "#50>> Model precision: 8.14% (814/10000)\n"
     ]
    },
    {
     "ename": "KeyboardInterrupt",
     "evalue": "",
     "output_type": "error",
     "traceback": [
      "\u001b[1;31m---------------------------------------------------------------------------\u001b[0m",
      "\u001b[1;31mKeyboardInterrupt\u001b[0m                         Traceback (most recent call last)",
      "Cell \u001b[1;32mIn[707], line 2\u001b[0m\n\u001b[0;32m      1\u001b[0m \u001b[38;5;28;01mfor\u001b[39;00m i \u001b[38;5;129;01min\u001b[39;00m \u001b[38;5;28mrange\u001b[39m(\u001b[38;5;241m5\u001b[39m):\n\u001b[1;32m----> 2\u001b[0m     W1, b1, W2, b2, W3, b3 \u001b[38;5;241m=\u001b[39m \u001b[43mtrain_model_2\u001b[49m\u001b[43m(\u001b[49m\u001b[43mW1\u001b[49m\u001b[43m,\u001b[49m\u001b[43m \u001b[49m\u001b[43mb1\u001b[49m\u001b[43m,\u001b[49m\u001b[43m \u001b[49m\u001b[43mW2\u001b[49m\u001b[43m,\u001b[49m\u001b[43m \u001b[49m\u001b[43mb2\u001b[49m\u001b[43m,\u001b[49m\u001b[43m \u001b[49m\u001b[43mW3\u001b[49m\u001b[43m,\u001b[49m\u001b[43m \u001b[49m\u001b[43mb3\u001b[49m\u001b[43m,\u001b[49m\u001b[43m \u001b[49m\u001b[43mX_train\u001b[49m\u001b[43m,\u001b[49m\u001b[43m \u001b[49m\u001b[43mY_train_\u001b[49m\u001b[43m,\u001b[49m\u001b[43m \u001b[49m\u001b[38;5;241;43m50\u001b[39;49m\u001b[43m,\u001b[49m\u001b[43m \u001b[49m\u001b[38;5;241;43m0.02\u001b[39;49m\u001b[43m)\u001b[49m\n\u001b[0;32m      3\u001b[0m     n \u001b[38;5;241m+\u001b[39m\u001b[38;5;241m=\u001b[39m \u001b[38;5;241m50\u001b[39m\n\u001b[0;32m      4\u001b[0m     \u001b[38;5;28mprint\u001b[39m(\u001b[38;5;124mf\u001b[39m\u001b[38;5;124m\"\u001b[39m\u001b[38;5;124m#\u001b[39m\u001b[38;5;132;01m{\u001b[39;00mn\u001b[38;5;132;01m}\u001b[39;00m\u001b[38;5;124m>> \u001b[39m\u001b[38;5;132;01m{\u001b[39;00mtest_model_2(W1,\u001b[38;5;250m \u001b[39mb1,\u001b[38;5;250m \u001b[39mW2,\u001b[38;5;250m \u001b[39mb2,\u001b[38;5;250m \u001b[39mW3,\u001b[38;5;250m \u001b[39mb3,\u001b[38;5;250m \u001b[39mX_test,\u001b[38;5;250m \u001b[39mY_test)\u001b[38;5;132;01m}\u001b[39;00m\u001b[38;5;124m\"\u001b[39m)\n",
      "Cell \u001b[1;32mIn[705], line 59\u001b[0m, in \u001b[0;36mtrain_model_2\u001b[1;34m(W1, b1, W2, b2, W3, b3, X, Y, n_iter, learning_rate)\u001b[0m\n\u001b[0;32m     56\u001b[0m \u001b[38;5;28;01mfor\u001b[39;00m i \u001b[38;5;129;01min\u001b[39;00m \u001b[38;5;28mrange\u001b[39m(\u001b[38;5;241m1\u001b[39m, n_iter \u001b[38;5;241m+\u001b[39m \u001b[38;5;241m1\u001b[39m):\n\u001b[0;32m     57\u001b[0m     Z1, A1, Z2, A2, Z3, A3 \u001b[38;5;241m=\u001b[39m forward_propagation_2(W1, b1, W2, b2, W3, b3, X)\n\u001b[1;32m---> 59\u001b[0m     dW1, db1, dW2, db2, dW3, db3 \u001b[38;5;241m=\u001b[39m \u001b[43mbackward_propagation_2\u001b[49m\u001b[43m(\u001b[49m\u001b[43mZ1\u001b[49m\u001b[43m,\u001b[49m\u001b[43m \u001b[49m\u001b[43mA1\u001b[49m\u001b[43m,\u001b[49m\u001b[43m \u001b[49m\u001b[43mZ2\u001b[49m\u001b[43m,\u001b[49m\u001b[43m \u001b[49m\u001b[43mA2\u001b[49m\u001b[43m,\u001b[49m\u001b[43m \u001b[49m\u001b[43mZ3\u001b[49m\u001b[43m,\u001b[49m\u001b[43m \u001b[49m\u001b[43mA3\u001b[49m\u001b[43m,\u001b[49m\u001b[43m \u001b[49m\u001b[43mW1\u001b[49m\u001b[43m,\u001b[49m\u001b[43m \u001b[49m\u001b[43mb1\u001b[49m\u001b[43m,\u001b[49m\u001b[43m \u001b[49m\u001b[43mW2\u001b[49m\u001b[43m,\u001b[49m\u001b[43m \u001b[49m\u001b[43mb2\u001b[49m\u001b[43m,\u001b[49m\u001b[43m \u001b[49m\u001b[43mW3\u001b[49m\u001b[43m,\u001b[49m\u001b[43m \u001b[49m\u001b[43mb3\u001b[49m\u001b[43m,\u001b[49m\u001b[43m \u001b[49m\u001b[43mX\u001b[49m\u001b[43m,\u001b[49m\u001b[43m \u001b[49m\u001b[43mY\u001b[49m\u001b[43m)\u001b[49m\n\u001b[0;32m     61\u001b[0m     W1, b1, W2, b2, W3, b3 \u001b[38;5;241m=\u001b[39m update_weights_2(W1, b1, W2, b2, W3, b3, dW1, db1, dW2, db2, dW3, db3, learning_rate)\n\u001b[0;32m     63\u001b[0m \u001b[38;5;28;01mreturn\u001b[39;00m W1, b1, W2, b2, W3, b3\n",
      "Cell \u001b[1;32mIn[705], line 37\u001b[0m, in \u001b[0;36mbackward_propagation_2\u001b[1;34m(Z1, A1, Z2, A2, Z3, A3, W1, b1, W2, b2, W3, b3, X, Y)\u001b[0m\n\u001b[0;32m     34\u001b[0m db2 \u001b[38;5;241m=\u001b[39m \u001b[38;5;241m1\u001b[39m\u001b[38;5;241m/\u001b[39mm \u001b[38;5;241m*\u001b[39m np\u001b[38;5;241m.\u001b[39msum(dZ2)\n\u001b[0;32m     36\u001b[0m dZ1 \u001b[38;5;241m=\u001b[39m W2\u001b[38;5;241m.\u001b[39mT\u001b[38;5;241m.\u001b[39mdot(dZ2) \u001b[38;5;241m*\u001b[39m d_relu(Z1)\n\u001b[1;32m---> 37\u001b[0m dW1 \u001b[38;5;241m=\u001b[39m \u001b[38;5;241m1\u001b[39m\u001b[38;5;241m/\u001b[39mm \u001b[38;5;241m*\u001b[39m \u001b[43mdZ1\u001b[49m\u001b[38;5;241;43m.\u001b[39;49m\u001b[43mdot\u001b[49m\u001b[43m(\u001b[49m\u001b[43mX\u001b[49m\u001b[38;5;241;43m.\u001b[39;49m\u001b[43mT\u001b[49m\u001b[43m)\u001b[49m\n\u001b[0;32m     38\u001b[0m db1 \u001b[38;5;241m=\u001b[39m \u001b[38;5;241m1\u001b[39m\u001b[38;5;241m/\u001b[39mm \u001b[38;5;241m*\u001b[39m np\u001b[38;5;241m.\u001b[39msum(dZ1)\n\u001b[0;32m     40\u001b[0m \u001b[38;5;28;01mreturn\u001b[39;00m dW1, db1, dW2, db2, dW3, db3\n",
      "\u001b[1;31mKeyboardInterrupt\u001b[0m: "
     ]
    }
   ],
   "source": [
    "for i in range(5):\n",
    "    W1, b1, W2, b2, W3, b3 = train_model_2(W1, b1, W2, b2, W3, b3, X_train, Y_train_, 50, 0.02)\n",
    "    n += 50\n",
    "    print(f\"#{n}>> {test_model_2(W1, b1, W2, b2, W3, b3, X_test, Y_test)}\")"
   ]
  }
 ],
 "metadata": {
  "kernelspec": {
   "display_name": "Python 3",
   "language": "python",
   "name": "python3"
  },
  "language_info": {
   "codemirror_mode": {
    "name": "ipython",
    "version": 3
   },
   "file_extension": ".py",
   "mimetype": "text/x-python",
   "name": "python",
   "nbconvert_exporter": "python",
   "pygments_lexer": "ipython3",
   "version": "3.9.2"
  }
 },
 "nbformat": 4,
 "nbformat_minor": 2
}
